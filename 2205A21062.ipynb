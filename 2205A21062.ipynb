{
  "nbformat": 4,
  "nbformat_minor": 0,
  "metadata": {
    "colab": {
      "provenance": [],
      "authorship_tag": "ABX9TyNjcPa9oJAblJQKZB3aHNr0",
      "include_colab_link": true
    },
    "kernelspec": {
      "name": "python3",
      "display_name": "Python 3"
    },
    "language_info": {
      "name": "python"
    }
  },
  "cells": [
    {
      "cell_type": "markdown",
      "metadata": {
        "id": "view-in-github",
        "colab_type": "text"
      },
      "source": [
        "<a href=\"https://colab.research.google.com/github/shivani-igtm/python-/blob/main/2205A21062.ipynb\" target=\"_parent\"><img src=\"https://colab.research.google.com/assets/colab-badge.svg\" alt=\"Open In Colab\"/></a>"
      ]
    },
    {
      "cell_type": "code",
      "execution_count": 1,
      "metadata": {
        "colab": {
          "base_uri": "https://localhost:8080/"
        },
        "id": "r5gePLLzkSM6",
        "outputId": "672e9804-9d11-4a5e-b25b-907d3555e010"
      },
      "outputs": [
        {
          "output_type": "stream",
          "name": "stdout",
          "text": [
            "enter hall ticket no.101\n",
            "===============================\n",
            "      KINDERLAND SCHOOL        \n",
            "         Score Card            \n",
            "===============================\n",
            "Roll No: 101\n",
            "Telugu: 35\n",
            "English: 98\n",
            "Hindi: 43\n",
            "Maths: 65\n",
            "Science: 78\n",
            "social: 96\n",
            "===========================\n",
            "     Results Satus         \n",
            "===========================\n",
            "Pass\n",
            "Percentage of marks: 69.0\n",
            "=============================\n"
          ]
        }
      ],
      "source": [
        "import numpy as np\n",
        "marks = np.array([[101, 35, 98, 43, 65, 78, 96],\n",
        "                 [102, 87, 45, 98, 65, 34, 78],\n",
        "                 [103, 45, 26, 78, 45, 67, 34],\n",
        "                 [104, 45, 56, 67, 78, 89, 90],\n",
        "                 [105, 23, 34, 45, 56, 76, 87]])\n",
        "students=marks.shape[0]\n",
        "\n",
        "\n",
        "Hall_Ticket_No=int(input(\"enter hall ticket no.\"))\n",
        "for i in range (students):\n",
        "  if(Hall_Ticket_No==marks[i,0]):\n",
        "    break\n",
        "\n",
        "index=i\n",
        "\n",
        "marks_percentage=np.sum(marks [index, 1: marks.shape[1]])*100/600\n",
        "\n",
        "count=0\n",
        "failed_sub=[]\n",
        "for i in range(1, marks.shape[1]):\n",
        "  if(marks [index, i]<35):\n",
        "    count=count+1\n",
        "    failed_sub.append(i)\n",
        "\n",
        "print(\"===============================\")\n",
        "print(\"      KINDERLAND SCHOOL        \")\n",
        "print(\"         Score Card            \")\n",
        "print(\"===============================\")\n",
        "\n",
        "print(\"Roll No:\", Hall_Ticket_No)\n",
        "print(\"Telugu:\", marks [index, 1])\n",
        "print(\"English:\", marks [index, 2])\n",
        "print(\"Hindi:\", marks [index, 3])\n",
        "print(\"Maths:\", marks [index, 4])\n",
        "print(\"Science:\", marks [index, 5])\n",
        "print(\"social:\", marks [index, 6])\n",
        "print(\"===========================\")\n",
        "print(\"     Results Satus         \")\n",
        "print(\"===========================\")\n",
        "if(count>0):\n",
        "  print(\"Fail\")\n",
        "  print(\"Failed Subjects:\",)\n",
        "  for i in range(len(failed_sub)):\n",
        "   if(failed_sub[i]==1):\n",
        "     print(\"Telugu\")\n",
        "   if(failed_sub[i]==2):\n",
        "     print(\"English\")\n",
        "   if(failed_sub[i]==3):\n",
        "     print(\"Hindi\")\n",
        "   if(failed_sub[i]==4):\n",
        "     print(\"Maths\")\n",
        "   if(failed_sub[i]==5):\n",
        "     print(\"Science\")\n",
        "   if(failed_sub[i]==6):\n",
        "     print(\"Social\")\n",
        "else:\n",
        "  print(\"Pass\")\n",
        "  print(\"Percentage of marks:\", np.round(marks_percentage))\n",
        "  print(\"=============================\")\n"
      ]
    }
  ]
}